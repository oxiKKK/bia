{
 "cells": [
  {
   "cell_type": "code",
   "execution_count": 5,
   "id": "d5a4d269",
   "metadata": {},
   "outputs": [
    {
     "name": "stdout",
     "output_type": "stream",
     "text": [
      "[ 6 15 24 33]\n",
      "[22 26 30]\n",
      "[ 6 15 24 33]\n"
     ]
    }
   ],
   "source": [
    "import numpy as np\n",
    "\n",
    "# 4 points in 3D space\n",
    "points = np.array([\n",
    "    [1, 2, 3],\n",
    "    [4, 5, 6],\n",
    "    [7, 8, 9],\n",
    "    [10, 11, 12]\n",
    "])  # shape (4, 3)\n",
    "\n",
    "# Sum along last axis (each point)\n",
    "print(np.sum(points, axis=-1))\n",
    "print(np.sum(points, axis=0))\n",
    "print(np.sum(points, axis=1))"
   ]
  }
 ],
 "metadata": {
  "kernelspec": {
   "display_name": "bia",
   "language": "python",
   "name": "python3"
  },
  "language_info": {
   "codemirror_mode": {
    "name": "ipython",
    "version": 3
   },
   "file_extension": ".py",
   "mimetype": "text/x-python",
   "name": "python",
   "nbconvert_exporter": "python",
   "pygments_lexer": "ipython3",
   "version": "3.13.5"
  }
 },
 "nbformat": 4,
 "nbformat_minor": 5
}
